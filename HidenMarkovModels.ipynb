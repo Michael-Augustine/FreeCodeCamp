{
  "nbformat": 4,
  "nbformat_minor": 0,
  "metadata": {
    "colab": {
      "provenance": [],
      "authorship_tag": "ABX9TyMDofcBRYJ0XiyfV2gcBlb8",
      "include_colab_link": true
    },
    "kernelspec": {
      "name": "python3",
      "display_name": "Python 3"
    },
    "language_info": {
      "name": "python"
    }
  },
  "cells": [
    {
      "cell_type": "markdown",
      "metadata": {
        "id": "view-in-github",
        "colab_type": "text"
      },
      "source": [
        "<a href=\"https://colab.research.google.com/github/Michael-Augustine/FreeCodeCamp/blob/main/HidenMarkovModels.ipynb\" target=\"_parent\"><img src=\"https://colab.research.google.com/assets/colab-badge.svg\" alt=\"Open In Colab\"/></a>"
      ]
    },
    {
      "cell_type": "code",
      "execution_count": 2,
      "metadata": {
        "id": "GtO1Sel3iIm7",
        "colab": {
          "base_uri": "https://localhost:8080/"
        },
        "outputId": "1a415ed3-c93b-43c3-9e71-e5d79aa9187c"
      },
      "outputs": [
        {
          "output_type": "stream",
          "name": "stdout",
          "text": [
            "Colab only includes TensorFlow 2.x; %tensorflow_version has no effect.\n"
          ]
        }
      ],
      "source": [
        "%tensorflow_version 2.x"
      ]
    },
    {
      "cell_type": "code",
      "source": [
        "import tensorflow_probability as tfp\n",
        "import tensorflow as tf"
      ],
      "metadata": {
        "id": "E3eEDwyfNATc"
      },
      "execution_count": 3,
      "outputs": []
    },
    {
      "cell_type": "code",
      "source": [
        "tfd = tfp.distributions \n",
        "initial_distribution = tfd.Categorical(probs=[0.8, 0.2])\n",
        "transition_distribution = tfd.Categorical(probs=[[0.8, 0.8],\n",
        "                                                [0.2, 0.8]])\n",
        "observation_distribution = tfd.Normal(loc=[0., 15], scale=[5., 10.])"
      ],
      "metadata": {
        "id": "AJtGEYksxfUX"
      },
      "execution_count": 19,
      "outputs": []
    },
    {
      "cell_type": "code",
      "source": [
        "model = tfd.HiddenMarkovModel(\n",
        "    initial_distribution=initial_distribution,\n",
        "    transition_distribution=transition_distribution,\n",
        "    observation_distribution=observation_distribution,\n",
        "    num_steps=7)"
      ],
      "metadata": {
        "id": "ehBXDZtTMNVv"
      },
      "execution_count": 20,
      "outputs": []
    },
    {
      "cell_type": "code",
      "source": [
        "mean = model.mean()\n",
        "with tf.compat.v1.Session() as sess:\n",
        "  print(mean.numpy())"
      ],
      "metadata": {
        "colab": {
          "base_uri": "https://localhost:8080/"
        },
        "id": "za5Xofm8Mu3W",
        "outputId": "2faf42c8-d25a-4ed5-d3f1-d62b0bc2fa52"
      },
      "execution_count": 21,
      "outputs": [
        {
          "output_type": "stream",
          "name": "stdout",
          "text": [
            "[ 3.        8.4      10.02     10.506    10.651799 10.69554  10.708661]\n"
          ]
        }
      ]
    }
  ]
}